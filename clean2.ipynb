{
 "cells": [
  {
   "cell_type": "code",
   "execution_count": 3,
   "id": "68ae4812",
   "metadata": {},
   "outputs": [],
   "source": [
    "#Thommy, John, Kevin, Christopher\n",
    "\n",
    "import pandas as pd\n",
    "import numpy as np\n",
    "from sklearn.model_selection import train_test_split\n",
    "from sklearn.dummy import DummyRegressor\n",
    "import matplotlib.pyplot as plt\n",
    "from sklearn.metrics import mean_squared_error\n",
    "from sklearn.linear_model import LinearRegression\n",
    "from sklearn.preprocessing import OneHotEncoder\n",
    "from sklearn.preprocessing import LabelEncoder\n"
   ]
  },
  {
   "cell_type": "code",
   "execution_count": 4,
   "id": "b771f0f8",
   "metadata": {},
   "outputs": [],
   "source": [
    "df = pd.read_csv('Edited pt 4.csv')\n",
    "\n",
    "df['User Score (GameFAQs)'] = df['User Score (GameFAQs)'].replace(0, np.nan)\n",
    "df['User Score (GRNK)'] = df['User Score (GRNK)'].replace(0, np.nan)\n",
    "df['User Score (IGDB)'] = df['User Score (IGDB)'].replace(0, np.nan)\n",
    "df['User Score (Metacritic)'] = df['User Score (Metacritic)'].replace(0, np.nan)\n",
    "df['User Score (Steam)'] = df['User Score (Steam)'].replace(0, np.nan)\n",
    "\n",
    "#User Score (GameFAQs)\n",
    "#count    13491.000000\n",
    "#mean        66.674850\n",
    "#std         17.126086\n",
    "#min         10.000000\n",
    "#25%         60.000000\n",
    "#50%         70.000000\n",
    "#75%         78.400000\n",
    "#max        100.000000\n",
    "\n",
    "#User Score (GRNK)\n",
    "#count: 5128\n",
    "#mean: 68.723089\n",
    "#std        14.224267\n",
    "#min        10.000000\n",
    "#25%        60.000000\n",
    "#50%        70.000000\n",
    "#75%        80.000000\n",
    "#max       100.000000\n",
    "\n",
    "#User Score (IGDB)\n",
    "#count    12605.000000\n",
    "#mean        64.685918\n",
    "#std         13.441085\n",
    "#min         11.000000\n",
    "#50%         70.000000\n",
    "#75%         74.000000\n",
    "#max        100.000000\n",
    "\n",
    "#User Score (Metacritic)\n",
    "#count    6012.000000\n",
    "#mean       68.659847\n",
    "#std        14.410269\n",
    "#min         5.000000\n",
    "#25%        62.000000\n",
    "#50%        72.000000\n",
    "#75%        78.000000\n",
    "#max       100.000000\n",
    "\n",
    "#User Score (Steam)\n",
    "#count    33462.000000\n",
    "#mean        70.453709\n",
    "#std         19.691413\n",
    "#min          1.000000\n",
    "#25%         57.000000\n",
    "#50%         75.000000\n",
    "#75%         86.000000\n",
    "#max        100.000000\n",
    "\n",
    "df['User Score (GameFAQs)'] = df['User Score (GameFAQs)'].fillna(66.674850)\n",
    "df['User Score (GRNK)'] = df['User Score (GRNK)'].fillna(68.723089)\n",
    "df['User Score (IGDB)'] = df['User Score (IGDB)'].fillna(64.685918)\n",
    "df['User Score (Metacritic)'] = df['User Score (Metacritic)'].fillna(68.659847)\n",
    "df['User Score (Steam)'] = df['User Score (Steam)'].fillna(70.453709)"
   ]
  },
  {
   "cell_type": "code",
   "execution_count": 45,
   "id": "b0bda4c6",
   "metadata": {},
   "outputs": [],
   "source": [
    "user_score_avg = ['User Score (GameFAQs)','User Score (GRNK)','User Score (IGDB)','User Score (Metacritic)','User Score (Steam)']\n",
    "df['Average User Score'] = df[user_score_avg].mean(axis = 1)\n",
    "reindex1 = ['Name','Achievements','Description','Price','Genres','Difficulty (GameFAQs)','Game Length (GameFAQs)', 'Median Time (SteamSpy)', 'Single Playthrough Time (IGDB)', 'Single Playthrough Time (HowLongToBeat)', '100% Completion Time (IGDB)', '100% Completion Time (HowLongToBeat)','Popularity (IGDB)', 'User Score (GameFAQs)', 'User Score (GRNK)', 'User Score (IGDB)','User Score (Metacritic)','User Score (Steam)','Average User Score', 'Owners (SteamSpy)']\n",
    "df = df.reindex(columns = reindex1)\n",
    "\n"
   ]
  },
  {
   "cell_type": "code",
   "execution_count": 49,
   "id": "4e09626b",
   "metadata": {
    "scrolled": true
   },
   "outputs": [
    {
     "ename": "TypeError",
     "evalue": "'str' object is not callable",
     "output_type": "error",
     "traceback": [
      "\u001b[1;31m---------------------------------------------------------------------------\u001b[0m",
      "\u001b[1;31mTypeError\u001b[0m                                 Traceback (most recent call last)",
      "Cell \u001b[1;32mIn[49], line 4\u001b[0m\n\u001b[0;32m      2\u001b[0m bins \u001b[39m=\u001b[39m [\u001b[39m0\u001b[39m,\u001b[39m60\u001b[39m,\u001b[39m80\u001b[39m,\u001b[39m100\u001b[39m]\n\u001b[0;32m      3\u001b[0m df[\u001b[39m'\u001b[39m\u001b[39mUser Score Class\u001b[39m\u001b[39m'\u001b[39m] \u001b[39m=\u001b[39m pd\u001b[39m.\u001b[39mcut(df[\u001b[39m'\u001b[39m\u001b[39mAverage User Score\u001b[39m\u001b[39m'\u001b[39m], bins \u001b[39m=\u001b[39m bins, labels \u001b[39m=\u001b[39m labels)\n\u001b[1;32m----> 4\u001b[0m df\u001b[39m.\u001b[39;49mto_csv(\u001b[39m'\u001b[39;49m\u001b[39mEdited pt 4.csv\u001b[39;49m\u001b[39m'\u001b[39;49m, index \u001b[39m=\u001b[39;49m \u001b[39mFalse\u001b[39;49;00m)\n",
      "\u001b[1;31mTypeError\u001b[0m: 'str' object is not callable"
     ]
    }
   ],
   "source": [
    "labels = ['Bad', 'OK', 'Good']\n",
    "bins = [0,60,80,100]\n",
    "df['User Score Class'] = pd.cut(df['Average User Score'], bins = bins, labels = labels)\n",
    "df.to_csv('Edited pt 4.csv', index = False)"
   ]
  },
  {
   "cell_type": "code",
   "execution_count": 10,
   "id": "9b6d4c3d",
   "metadata": {},
   "outputs": [
    {
     "name": "stdout",
     "output_type": "stream",
     "text": [
      "Test RMSE: 834795.2680013281 , Train RMSE: 1525614.4340389532\n",
      "Test MSE: 696883139477.4093 , Train MSE:  2327499401347.995\n"
     ]
    }
   ],
   "source": [
    "X = df['Difficulty (GameFAQs)']\n",
    "y = df['Owners (SteamSpy)']\n",
    "\n",
    "\n",
    "X_train, X_test, y_train, y_test = train_test_split(X,y, test_size = 0.2, random_state = 42)\n",
    "X_train = X_train.values.reshape(-1,1)\n",
    "X_test = X_test.values.reshape(-1,1)\n",
    "y_train = y_train.values.reshape(-1,1)\n",
    "y_test = y_test.values.reshape(-1,1)\n",
    "\n",
    "LR = LinearRegression()\n",
    "LR.fit(X_train,y_train)\n",
    "\n",
    "y_pred_trainLR= LR.predict(X_train)\n",
    "y_pred_testLR = LR.predict(X_test)\n",
    "\n",
    "rmse_trainLR = mean_squared_error(y_train, y_pred_trainLR, squared = False)\n",
    "rmse_testLR = mean_squared_error(y_test, y_pred_testLR, squared = False)\n",
    "\n",
    "print (\"Test RMSE:\", rmse_testLR,\", Train RMSE:\", rmse_trainLR)\n",
    "\n",
    "mse_trainLR = mean_squared_error(y_train, y_pred_trainLR, squared = True)\n",
    "mse_testLR = mean_squared_error(y_test, y_pred_testLR, squared = True)\n",
    "print (\"Test MSE:\", mse_testLR, \", Train MSE: \", mse_trainLR)"
   ]
  },
  {
   "cell_type": "code",
   "execution_count": null,
   "id": "6e1c3318",
   "metadata": {},
   "outputs": [],
   "source": []
  }
 ],
 "metadata": {
  "kernelspec": {
   "display_name": "Python 3 (ipykernel)",
   "language": "python",
   "name": "python3"
  },
  "language_info": {
   "codemirror_mode": {
    "name": "ipython",
    "version": 3
   },
   "file_extension": ".py",
   "mimetype": "text/x-python",
   "name": "python",
   "nbconvert_exporter": "python",
   "pygments_lexer": "ipython3",
   "version": "3.10.9"
  }
 },
 "nbformat": 4,
 "nbformat_minor": 5
}
